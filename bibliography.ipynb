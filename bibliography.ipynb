{
 "cells": [
  {
   "cell_type": "markdown",
   "id": "f140f137-8ed2-442e-a00a-4b4b4ae37640",
   "metadata": {},
   "source": [
    "## Annotated Bibliography\n",
    "\n",
    "**Gual-Montolio, Nuria, and Juan J. Carballo.**  \n",
    "*Artificial Intelligence in Mental Health Applications: A Systematic Review*.  \n",
    "National Library of Medicine, 2022.  \n",
    "This systematic review evaluated the effectiveness of AI mental health applications. It found promising results for symptom reduction in anxiety and depression, but warned of study limitations such as sample size and inconsistent design.  \n",
    "[Link](https://pubmed.ncbi.nlm.nih.gov/39911020/#:~:text=AI%20tools%20appeared%20to%20be,prognosis%20of%20mental%20health%20disorders.)\n",
    "\n",
    "---\n",
    "\n",
    "**Thieme, Anja, and Munmun De Choudhury.**  \n",
    "*Designing AI for Mental Health: Lessons from CBT Therapists*.  \n",
    "CHI Conference on Human Factors in Computing Systems, 2022.  \n",
    "This paper outlines principles for integrating AI into CBT treatment workflows. It emphasizes a hybrid model where AI augments but does not replace human care.  \n",
    "[Link](https://dl.acm.org/doi/full/10.1145/3564752)\n",
    "\n",
    "---\n",
    "\n",
    "**Tidy, Joe.**  \n",
    "*Why Are Teens Turning to AI Therapy Bots?*  \n",
    "BBC News, January 30, 2024.  \n",
    "This article explores the use of Character.ai for mental health support among teenagers. It includes user testimonials as well as expert criticism about the platform's limitations.  \n",
    "[Link](https://www.bbc.com/news/technology-67872693)\n",
    "\n",
    "---\n",
    "\n",
    "**OpenAI.**  \n",
    "*GPT-4 Technical Report*.  \n",
    "March 14, 2023.  \n",
    "The technical paper on GPT-4 includes design goals, limitations, and alignment challenges. It documents ethical guardrails built into the system to manage risk in health-related responses.  \n",
    "[Link](https://openai.com/research/gpt-4)\n",
    "\n",
    "---\n",
    "\n",
    "**Anthropic.**  \n",
    "*Claude 3 Family: Introducing Our Most Capable AI Models*.  \n",
    "March 4, 2024.  \n",
    "This blog post introduces Claude 3 and outlines the safety measures and empathetic design features implemented to improve emotionally sensitive interactions.  \n",
    "[Link](https://www.anthropic.com/news/claude-3-family)\n",
    "\n",
    "---\n",
    "\n"
   ]
  },
  {
   "cell_type": "code",
   "execution_count": null,
   "id": "845cff96-8be9-4c3c-8e1f-99ccfd71595c",
   "metadata": {},
   "outputs": [],
   "source": []
  }
 ],
 "metadata": {
  "kernelspec": {
   "display_name": "Python 3 (ipykernel)",
   "language": "python",
   "name": "python3"
  },
  "language_info": {
   "codemirror_mode": {
    "name": "ipython",
    "version": 3
   },
   "file_extension": ".py",
   "mimetype": "text/x-python",
   "name": "python",
   "nbconvert_exporter": "python",
   "pygments_lexer": "ipython3",
   "version": "3.10.12"
  }
 },
 "nbformat": 4,
 "nbformat_minor": 5
}
